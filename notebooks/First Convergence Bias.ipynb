{
 "cells": [
  {
   "cell_type": "markdown",
   "metadata": {},
   "source": [
    "### First Convergence Bias\n",
    "\n",
    "In my post [Skill vs Strategy](http://www.r2rt.com/posts/meditations/2016-01-23-skill-vs-strategy/) I made the following proposition:\n",
    "\n",
    "> Let’s say we retrain the network one million times, and each of the local minima reached leads to approximately the same performance. Is this enough for us to conclude that the resulting strategies are close to the best? I would answer in the negative; we cannot be certain that a random initialization will ever lead to an optimal strategy via backpropagation. It may be a situation like the chest shot, where in order to reach an optimal strategy, the network must be trained again after it has learned some useful hidden features.\n",
    "\n",
    "In this post, I offer the results of an experiment providing support for this proposition. The specific experiment was not designed to test this proposition, and in fact, the results I obtained are opposite of the results I expected. "
   ]
  },
  {
   "cell_type": "markdown",
   "metadata": {},
   "source": [
    "### Motivation\n",
    "\n",
    "In my post [Representational Power of Deeper Layers](http://www.r2rt.com/posts/experiments/2016-03-30-representational-power-of-deeper-layers/), I showed that progressively deeper layers serve as better representations of the original data. This motivated the thought that the better the first layer representation of the data, the better the last layer representation could be. Intuitively, this makes sense, if our first layer can get us 95% of the way to the best solution, then the second layer only has 5% of ground to cover, whereas if the first layer only gets 70% of the way there, the second layer has six times as much work to do. "
   ]
  },
  {
   "cell_type": "markdown",
   "metadata": {},
   "source": [
    "### Experiment\n",
    "\n",
    "I tested this hypothesis by setting up a neural network with 3-hidden layers to classify MNIST digits. The network is trained only on 1000 MNIST training examples, as opposed to the entire training set of 50000, and achieves a test accuracy of between 86% and 89%.\n",
    "\n",
    "Using a simple mini-batch gradient descent with a batch-size of 50, I compared the following two scenarios:\n",
    "\n",
    "1. Training the entire network for 1000 steps. \n",
    "2. Training the first layer for 200 steps, training the first and second layers together for 200 steps, and only then training the entire network for 1000 steps. \n",
    "\n",
    "My hypothesis was that the second option would lead to better results, because by the time the third layer starts training, the first and second layers are finely tuned to produce \"good\" representations of the data. This hypothesis was proven incorrect. "
   ]
  },
  {
   "cell_type": "markdown",
   "metadata": {},
   "source": [
    "### Results\n",
    "\n",
    "For each of the two training strategies above, I trained 500 randomly-initialized networks and recorded their final accuracies. Training the entire network at once yielded an average test accuracy of 87.87%, whereas training the two earlier layers before training the entire network yielded an average test accuracy of only 87.64%. While this is not that significant of a difference, the plot below clearly shows that the \"local minima\" that each strategy reaches is pulled from a different distribution. "
   ]
  },
  {
   "cell_type": "markdown",
   "metadata": {},
   "source": [
    "### Discussion\n",
    "\n",
    "Although my hypothesis was invalidated, the result is nice because it supports my prior proposition that the local minima of first convergence may be biased. I.e., we have no guarantee of getting to the best local minima after training via backpropagation. Thus, the discussion in [Skill vs Strategy](http://www.r2rt.com/posts/meditations/2016-01-23-skill-vs-strategy/) is very relevant. Convergence speed aside, which is the usual reason for preferring alternate training strategies, other training strategies (e.g., other optimization strategies like Adagrad) are worth exploring as they might be biased toward a superior quality of local minima. \n",
    "\n",
    "How this relates to \"greedy layer-wise training of deep networks\" (see [this paper](https://papers.nips.cc/paper/3048-greedy-layer-wise-training-of-deep-networks.pdf)) may also be interesting. I haven't learned enough yet to dive into that paper or that method of training, but the gist, as I currently understand it, is that we can obtain better initializations of the weights in a deep network by first training each layer in an unsupervised fashion. In this experiment I did greedy layer-wise *supervised* training, which led to worse results. As an aside, the discussion in that paper also strongly supports the proposition that local minima of first convergence may be biased. "
   ]
  },
  {
   "cell_type": "markdown",
   "metadata": {},
   "source": [
    "### Code"
   ]
  },
  {
   "cell_type": "code",
   "execution_count": 1,
   "metadata": {
    "collapsed": false
   },
   "outputs": [
    {
     "name": "stderr",
     "output_type": "stream",
     "text": [
      "/home/silviu/anaconda3/lib/python3.5/gzip.py:274: VisibleDeprecationWarning: converting an array with ndim > 0 to an index will result in an error in the future\n",
      "  return self._buffer.read(size)\n",
      "/home/silviu/Dropbox/pyml/TF/load_mnist.py:52: VisibleDeprecationWarning: converting an array with ndim > 0 to an index will result in an error in the future\n",
      "  data = data.reshape(num_images, rows, cols, 1)\n"
     ]
    },
    {
     "name": "stdout",
     "output_type": "stream",
     "text": [
      "Extracting MNIST_data/train-images-idx3-ubyte.gz\n",
      "Extracting MNIST_data/train-labels-idx1-ubyte.gz\n",
      "Extracting MNIST_data/t10k-images-idx3-ubyte.gz\n",
      "Extracting MNIST_data/t10k-labels-idx1-ubyte.gz\n"
     ]
    }
   ],
   "source": [
    "import tensorflow as tf\n",
    "import numpy as np\n",
    "import load_mnist\n",
    "import matplotlib.pyplot as plt\n",
    "import seaborn as sns\n",
    "sns.set(color_codes=True)\n",
    "%matplotlib inline\n",
    "mnist = load_mnist.read_data_sets('MNIST_data', one_hot=True)"
   ]
  },
  {
   "cell_type": "code",
   "execution_count": 2,
   "metadata": {
    "collapsed": false
   },
   "outputs": [],
   "source": [
    "def weight_variable(shape):\n",
    "  initial = tf.truncated_normal(shape, stddev=0.1)\n",
    "  return tf.Variable(initial)\n",
    "\n",
    "def bias_variable(shape):\n",
    "  initial = tf.constant(0.1, shape=shape)\n",
    "  return tf.Variable(initial)\n",
    "\n",
    "def simple_fc_layer(input_layer, shape):\n",
    "    w = weight_variable(shape)\n",
    "    b = bias_variable([shape[1]])\n",
    "    return tf.nn.tanh(tf.matmul(input_layer,w) + b)\n",
    "\n",
    "def cross_entropy_layer(input_layer,shape):\n",
    "    w = weight_variable(shape)\n",
    "    b = bias_variable([shape[1]])\n",
    "    return tf.nn.softmax(tf.matmul(input_layer,w) + b)\n",
    "\n",
    "def accuracy(y, y_):\n",
    "    correct = tf.equal(tf.argmax(y,1), tf.argmax(y_,1))\n",
    "    return tf.reduce_mean(tf.cast(correct, \"float\"))"
   ]
  },
  {
   "cell_type": "code",
   "execution_count": 3,
   "metadata": {
    "collapsed": false
   },
   "outputs": [],
   "source": [
    "x = tf.placeholder(\"float\", shape=[None, 784])\n",
    "y_ = tf.placeholder(\"float\", shape=[None, 10])\n",
    "lr = tf.placeholder(\"float\")\n",
    "\n",
    "l1 = simple_fc_layer(x, [784,100])\n",
    "y1 = cross_entropy_layer(l1,[100,10])\n",
    "\n",
    "l2 = simple_fc_layer(l1, [100,100])\n",
    "y2 = cross_entropy_layer(l2,[100,10])\n",
    "\n",
    "l3 = simple_fc_layer(l2, [100,100])\n",
    "y3 = cross_entropy_layer(l3,[100,10])\n",
    "\n",
    "\n",
    "ce1 = -tf.reduce_sum(y_*tf.log(y1))\n",
    "ce2 = -tf.reduce_sum(y_*tf.log(y2))\n",
    "ce3 = -tf.reduce_sum(y_*tf.log(y3))\n",
    "\n",
    "ts1 = tf.train.GradientDescentOptimizer(lr).minimize(ce1)\n",
    "ts2 = tf.train.GradientDescentOptimizer(lr).minimize(ce2)\n",
    "ts3 = tf.train.GradientDescentOptimizer(lr).minimize(ce3)\n",
    "\n",
    "a1 = accuracy(y1,y_)\n",
    "a2 = accuracy(y2,y_)\n",
    "a3 = accuracy(y3,y_)"
   ]
  },
  {
   "cell_type": "code",
   "execution_count": 4,
   "metadata": {
    "collapsed": true
   },
   "outputs": [],
   "source": [
    "train3 = []\n",
    "train123 = []"
   ]
  },
  {
   "cell_type": "code",
   "execution_count": 16,
   "metadata": {
    "collapsed": false,
    "scrolled": true
   },
   "outputs": [
    {
     "name": "stdout",
     "output_type": "stream",
     "text": []
    }
   ],
   "source": [
    "for run in range(400):\n",
    "    with tf.Session() as sess:\n",
    "        sess.run(tf.initialize_all_variables())\n",
    "        for i in range(1000):\n",
    "            start = (50*i) % 1000\n",
    "            end = start + 50\n",
    "            learning_rate = 0.01 if i < 750 else 0.003\n",
    "            ts3.run(feed_dict={x: mnist.train.images[start:end], y_: mnist.train.labels[start:end], lr:learning_rate})\n",
    "        res = a3.eval(feed_dict={x: mnist.test.images, y_: mnist.test.labels})\n",
    "        print(res, end=\"\\r\")\n",
    "        train3.append(res)    "
   ]
  },
  {
   "cell_type": "code",
   "execution_count": 17,
   "metadata": {
    "collapsed": false,
    "scrolled": true
   },
   "outputs": [
    {
     "name": "stdout",
     "output_type": "stream",
     "text": []
    }
   ],
   "source": [
    "for run in range(400):\n",
    "    with tf.Session() as sess:\n",
    "        sess.run(tf.initialize_all_variables())\n",
    "        for i in range(200):\n",
    "            start = (50*i) % 1000\n",
    "            end = start + 50\n",
    "            ts1.run(feed_dict={x: mnist.train.images[start:end], y_: mnist.train.labels[start:end], lr: 0.01})\n",
    "        for i in range(200):\n",
    "            start = (50*i) % 1000\n",
    "            end = start + 50\n",
    "            ts2.run(feed_dict={x: mnist.train.images[start:end], y_: mnist.train.labels[start:end], lr: 0.01})\n",
    "        for i in range(1000):\n",
    "            start = (50*i) % 1000\n",
    "            end = start + 50\n",
    "            learning_rate = 0.01 if i < 750 else 0.003\n",
    "            ts3.run(feed_dict={x: mnist.train.images[start:end], y_: mnist.train.labels[start:end], lr:learning_rate})\n",
    "        res = a3.eval(feed_dict={x: mnist.test.images, y_: mnist.test.labels})\n",
    "        print(res, end=\"\\r\")\n",
    "        train123.append(res)"
   ]
  },
  {
   "cell_type": "code",
   "execution_count": 18,
   "metadata": {
    "collapsed": false
   },
   "outputs": [
    {
     "name": "stderr",
     "output_type": "stream",
     "text": [
      "/home/silviu/anaconda3/lib/python3.5/site-packages/statsmodels/nonparametric/kdetools.py:20: VisibleDeprecationWarning: using a non-integer number instead of an integer will result in an error in the future\n",
      "  y = X[:m/2+1] + np.r_[0,X[m/2+1:],0]*1j\n"
     ]
    },
    {
     "data": {
      "text/plain": [
       "<matplotlib.legend.Legend at 0x7f5be67b02e8>"
      ]
     },
     "execution_count": 18,
     "metadata": {},
     "output_type": "execute_result"
    },
    {
     "data": {
      "image/png": "[encoded data removed]",
      "text/plain": [
       "<matplotlib.figure.Figure at 0x7f5be67b0ac8>"
      ]
     },
     "metadata": {},
     "output_type": "display_data"
    }
   ],
   "source": [
    "sns.distplot(train3,label=\"Train all layers\")\n",
    "sns.distplot(train123,label=\"Train layer-by-layer\")\n",
    "plt.legend()"
   ]
  },
  {
   "cell_type": "code",
   "execution_count": 22,
   "metadata": {
    "collapsed": false
   },
   "outputs": [
    {
     "name": "stdout",
     "output_type": "stream",
     "text": [
      "Mean and standard deviation of training all layers: 0.87867, 0.00274425\n",
      "Mean and standard deviation of layer-wise training: 0.876439, 0.00234411\n"
     ]
    }
   ],
   "source": [
    "print(\"Mean and standard deviation of training all layers: \" + str(np.mean(train3)) + \", \" + str(np.std(train3)))\n",
    "print(\"Mean and standard deviation of layer-wise training: \" + str(np.mean(train123)) + \", \" + str(np.std(train123)))"
   ]
  },
  {
   "cell_type": "code",
   "execution_count": null,
   "metadata": {
    "collapsed": true
   },
   "outputs": [],
   "source": [
    " "
   ]
  }
 ],
 "metadata": {
  "kernelspec": {
   "display_name": "Python 3",
   "language": "python",
   "name": "python3"
  },
  "language_info": {
   "codemirror_mode": {
    "name": "ipython",
    "version": 3
   },
   "file_extension": ".py",
   "mimetype": "text/x-python",
   "name": "python",
   "nbconvert_exporter": "python",
   "pygments_lexer": "ipython3",
   "version": "3.5.1"
  }
 },
 "nbformat": 4,
 "nbformat_minor": 0
}
